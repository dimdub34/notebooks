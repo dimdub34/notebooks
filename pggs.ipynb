{
 "cells": [
  {
   "cell_type": "markdown",
   "metadata": {
    "slideshow": {
     "slide_type": "slide"
    }
   },
   "source": [
    "<img src=\"solidarity.jpg\" width=300px style=\"float: right;\" />\n",
    "# Public goods provision and solidarity: does free choice matter?\n",
    "\n",
    "Dubois, D., Romaniuc, R., Mc Cannon, B. and De Angelo, G."
   ]
  },
  {
   "cell_type": "markdown",
   "metadata": {
    "slideshow": {
     "slide_type": "slide"
    }
   },
   "source": [
    "* Recently, european countries had to welcome populations that left their countries because of a complicated homeland situation (Syrians, Afghans). \n",
    "* The International Organization for Migration (IOM) estimates that around 1 million migrants arrived in Europe in 2015\n",
    "* The European Commission has considered allocating quotas of asylum seekers to each EU state, in order to redistribute people who have arrived in Greece, Hungary and Italy.\n",
    "* Public opinion around Europe has become increasingly divided over how to deal with the migrant crisis"
   ]
  },
  {
   "cell_type": "markdown",
   "metadata": {
    "slideshow": {
     "slide_type": "subslide"
    }
   },
   "source": [
    "* Welcoming refugees implies to share public goods produced/provided by local citizens\n",
    "\n",
    "* A confidential document that was leaked to the German newspaper Bild reveals that the Hamburg transit authority (Hamburger Verkehrsverbund, HVV) has ordered ticket inspectors to \"look the other way\" whenever they encounter migrants who are using public transportation without a ticket.\n",
    "(_Source: http://www.bild.de/regional/hamburg/fluechtling/hvv-drueckt-bei-fluechtlingen-ein-auge-zu-42050234.bild.html_)"
   ]
  },
  {
   "cell_type": "markdown",
   "metadata": {
    "slideshow": {
     "slide_type": "subslide"
    }
   },
   "source": [
    "__Question 1__  \n",
    "If migrants benefit from public goods provided by the local citizens, will this impact the subsequent contribution choices of local citizens – that is, will they contribute more or less to the production of public goods?\n",
    "\n",
    "_If sharing the benefits from public goods with zero-income individuals has a negative impact on high-income types'\n",
    "subsequent contributions, then openly permitting zero-income individuals to benefit from public transportation/hospitals/etc. without paying implies that at some point local citizens may stop cooperating and this is likely to lead to social conflicts._"
   ]
  },
  {
   "cell_type": "markdown",
   "metadata": {
    "slideshow": {
     "slide_type": "subslide"
    }
   },
   "source": [
    "__Question 2__  \n",
    "Could this kind of conflict be resolved by giving local citizens the possibility to vote?  \n",
    "\n",
    "_Suppose that local citizens have voted to welcome the migrants (i.e. they voted in favor of welcoming them) – will local citizens contribute more under a scenario where they had the choice to welcome migrants compared to the scenario where they didn’t have any choice? And what if local citizens vote against welcoming migrants?_"
   ]
  },
  {
   "cell_type": "markdown",
   "metadata": {
    "slideshow": {
     "slide_type": "subslide"
    }
   },
   "source": [
    "__Some citizens voted in favour of welcoming refugees in their city__\n",
    "* Chaponost (Rhône): [http://www.leprogres.fr/rhone ...](http://www.leprogres.fr/rhone/2015/09/18/la-commune-vote-l-accueil-des-migrants-a-une-tres-courte-majorite)\n",
    "* Marpend (Nord): [http://www.lavoixdunord.fr/...](http://www.lavoixdunord.fr/region/marpent-le-conseil-municipal-vote-pour-l-accueil-ia23b44385n3142608)\n",
    "* Le Vigan (Gard): [http://www.objectifgard.com/...](http://www.objectifgard.com/2015/08/21/le-vigan-le-conseil-municipal-vote-a-lunanimite-laccueil-de-refugies-syriens/)\n",
    "\n",
    "__While some voted against__\n",
    "* Le Plessis-Robinson (Hauts-de-Seine): [http://jfpapot.parti-socialiste...](http://jfpapot.parti-socialiste.fr/2015/10/01/accueil-des-refugies-un-vote-honteux/)\n",
    "* Gignac (Lot): [http://www.ladepeche.fr/...](http://www.ladepeche.fr/article/2016/01/15/2256080-le-village-dit-non-a-l-accueil-de-refugies.html)\n",
    "* Etival (Vosges): [http://www.actu88.fr/...](http://www.actu88.fr/regugies-etival-a-dit-non-coussey-ouvre-ses-portes/)"
   ]
  },
  {
   "cell_type": "markdown",
   "metadata": {
    "slideshow": {
     "slide_type": "subslide"
    }
   },
   "source": [
    "The present experimental project aims at experimentally evaluating the effect on public good provision of hosting/rejecting sinistered population.   \n",
    "\n",
    "More precisely, we want to study how having zero income people (group A) benefit from contributions by high-income people (group B) will affect the contribution decisions of group B individuals under different procedures (when they have the free choice, by voting, to host group A individuals vs when they do not have the choice).  "
   ]
  },
  {
   "cell_type": "markdown",
   "metadata": {
    "slideshow": {
     "slide_type": "subslide"
    }
   },
   "source": [
    "Specifically, we aim at answering the following questions:\n",
    "1. If group B contributions automatically yield benefits to group A subjects, will group B behave less or more cooperatively than if no external benefits exist?\n",
    "2. Will this outcome be different if group B has the voice, by voting, to welcome or not group A? If they vote Yes, will this enhance cooperation among group B members or will they compensate their good deed (i.e. voted Yes) by subsequently reducing their contribution to the public good from which zero-income subjects are supposed\n",
    "to benefit?"
   ]
  },
  {
   "cell_type": "markdown",
   "metadata": {
    "slideshow": {
     "slide_type": "slide"
    }
   },
   "source": [
    "## Existing literature"
   ]
  },
  {
   "cell_type": "markdown",
   "metadata": {
    "slideshow": {
     "slide_type": "-"
    }
   },
   "source": [
    "__Income inequality in PGG: inequality undermines cooperation and diminishes social ties__\n",
    "* Buckley & Croson (2006, J. Pub. Econ.) designed a PG experiment with group members who have different endowments. \n",
    "* Maurice et al. (2013, Int. Rev. Econ.) designed a 2-parts PG: 1st part standard and 2nd part with endowment\n",
    "inequality. \n",
    "* Nishi et al. (2015, Nature) designed a modified PG in which they manipulate the visibility of endowment inequality."
   ]
  },
  {
   "cell_type": "markdown",
   "metadata": {
    "slideshow": {
     "slide_type": "subslide"
    }
   },
   "source": [
    "__Share of public good with persons unable to contribute: no effect on group contribution__  \n",
    "Engel & Rochenbach (2009, WP MPI) study PG provisions when group i's contributions may benefit group j -- knowing that j has the same endowment as i but cannot technically contribute to the production of the PG.  \n",
    "\n",
    "__Our contribution is twofold__  \n",
    "A. We study a different set of problems: PG provision when contributions benefit outsiders who are unfortunate\n",
    "to have zero-income.  \n",
    "B. We integrate the role of free-choice (voting vs centralized decision).    \n"
   ]
  },
  {
   "cell_type": "markdown",
   "metadata": {
    "slideshow": {
     "slide_type": "slide"
    }
   },
   "source": [
    "## Experimental design"
   ]
  },
  {
   "cell_type": "markdown",
   "metadata": {},
   "source": [
    "### The game\n",
    "_The baseline situation (part 1): a standard public good game_\n",
    "* Groups of size 5 play a repeated public good game (10 periods)\n",
    "* Endowment of 20 tokens ($w_{it}=20, \\forall i, t$)\n",
    "* Players must decide how to share this amount between a private account and a public account\n",
    "* The payoff function is : $\\pi(g_i) = w - g_i + \\alpha \\sum\\limits_{j=1}^{n} g_j, \\forall i, j \\in \\{1, \\ldots, n\\}$  \n",
    "with $\\alpha = 0.5$ the Marginal Per Capita Return (MPCR)."
   ]
  },
  {
   "cell_type": "markdown",
   "metadata": {
    "slideshow": {
     "slide_type": "subslide"
    }
   },
   "source": [
    "### The sinister\n",
    "Half of the groups in the sessions face a sinister which implies that their members have an endowmnent of zero and therefore cannot contribute to any private or public account."
   ]
  },
  {
   "cell_type": "markdown",
   "metadata": {
    "slideshow": {
     "slide_type": "subslide"
    }
   },
   "source": [
    "### The treatments\n",
    "__part 2__: also 10 repetitions of a public good game, with groups unchanged. "
   ]
  },
  {
   "cell_type": "markdown",
   "metadata": {
    "slideshow": {
     "slide_type": "-"
    }
   },
   "source": [
    "_$T_0$_: same than part 1. \n",
    "\n",
    "For $T_1$, $T_2$ and $T_3$ the groups are divided in two categories: the lucky groups ($G_L$) and the unlucky groups ($G_U$). A lucky group is \"associated/paired\" to an unlucky group. The unlucky groups face the sinister. "
   ]
  },
  {
   "cell_type": "markdown",
   "metadata": {
    "slideshow": {
     "slide_type": "subslide"
    }
   },
   "source": [
    "* _$T_1$_: $G_L$ group plays the same game than in part 1 while $G_U$ group doesn't play and earns 0 for this part of the experiment.\n",
    "* _$T_2$_: $G_L$ group plays the same game than in part 1 except that the public account benefits also to the members of the $G_U$ group.\n",
    "* _$T_3$_: $G_L$ has two options: either it accepts to share the public good with $G_U$ or it refuses. Each group member votes. The majority vote applies to the whole group. If the group accepts the game played is the same than $T_2$. If the group refuses the game played is the same than $T_1$."
   ]
  },
  {
   "cell_type": "markdown",
   "metadata": {
    "slideshow": {
     "slide_type": "subslide"
    }
   },
   "source": [
    "Since in $T_2$ 10 players benefit from the public good while there are only 5 in $T_1$, the MPCR has to be equal to 0.25 in order to keep constant the total amount produced by the public account. \n",
    "We therefore apply the following MPCR in the experiment:\n",
    "* $T_0$: MPCR = 0.5\n",
    "* $T_1$: MPCR = 0.5 \n",
    "* $T_2$: MPCR = 0.25\n",
    "* $T_3/T_1$: MPCR = 0.5 and $T_3/T_2$: MPCR = 0.25"
   ]
  },
  {
   "cell_type": "markdown",
   "metadata": {
    "slideshow": {
     "slide_type": "subslide"
    }
   },
   "source": [
    "_Control treatments_  \n",
    "However in order to control for the effects related to the change of the MPCR we should also run $T_0$ with MPCR = 0.25, $T_1$ with MPCR = 0.25, $T_2$ with MPCR = 0.5 and $T_3/T_1$ with MPCR = 0.25."
   ]
  }
 ],
 "metadata": {
  "celltoolbar": "Slideshow",
  "kernelspec": {
   "display_name": "Python 2",
   "language": "python",
   "name": "python2"
  },
  "language_info": {
   "codemirror_mode": {
    "name": "ipython",
    "version": 2
   },
   "file_extension": ".py",
   "mimetype": "text/x-python",
   "name": "python",
   "nbconvert_exporter": "python",
   "pygments_lexer": "ipython2",
   "version": "2.7.6"
  }
 },
 "nbformat": 4,
 "nbformat_minor": 0
}
