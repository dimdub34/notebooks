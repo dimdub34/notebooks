{
 "cells": [
  {
   "cell_type": "code",
   "execution_count": 1,
   "metadata": {
    "collapsed": true
   },
   "outputs": [],
   "source": [
    "import threading\n",
    "import datetime\n",
    "import time"
   ]
  },
  {
   "cell_type": "code",
   "execution_count": 2,
   "metadata": {
    "collapsed": true
   },
   "outputs": [],
   "source": [
    "def get_formatedtimefromseconds(nombre_secondes):\n",
    "    \"\"\"\n",
    "    Return a formated string; HH:mm:ss\n",
    "    :param nombre_secondes:\n",
    "    :return: str\n",
    "    \"\"\"\n",
    "    # we do the test because if type is float the str retured does not\n",
    "    # correspond to what is expected\n",
    "    if type(nombre_secondes) is not int:\n",
    "        try:\n",
    "            nombre_secondes = int(nombre_secondes)\n",
    "            return get_formatedtimefromseconds(nombre_secondes)\n",
    "        except ValueError:\n",
    "            return u\"? (ValueError)\"\n",
    "    minutes, secondes = divmod(nombre_secondes, 60)\n",
    "    heures, minutes = divmod(minutes, 60)\n",
    "    return \"{}\".format(datetime.time(heures, minutes, secondes).strftime(\n",
    "        \"%H:%M:%S\"))"
   ]
  },
  {
   "cell_type": "code",
   "execution_count": 3,
   "metadata": {
    "collapsed": false
   },
   "outputs": [],
   "source": [
    "class CompteRebours(threading.Thread):\n",
    "    def __init__(self, seconds):\n",
    "        super(CompteRebours, self).__init__()\n",
    "        self._temps = seconds + 1\n",
    "        \n",
    "    def run(self):\n",
    "        while self._temps > 0:\n",
    "            self._temps -= 1\n",
    "            print(get_formatedtimefromseconds(self._temps))\n",
    "            time.sleep(1)"
   ]
  },
  {
   "cell_type": "code",
   "execution_count": 4,
   "metadata": {
    "collapsed": false
   },
   "outputs": [
    {
     "name": "stdout",
     "output_type": "stream",
     "text": [
      "00:00:10\n",
      "00:00:09\n",
      "00:00:08\n",
      "00:00:07\n",
      "00:00:06\n",
      "00:00:05\n",
      "00:00:04\n",
      "00:00:03\n",
      "00:00:02\n",
      "00:00:01\n",
      "00:00:00\n"
     ]
    }
   ],
   "source": [
    "c = CompteRebours(10)\n",
    "c.start()"
   ]
  }
 ],
 "metadata": {
  "kernelspec": {
   "display_name": "Python 2",
   "language": "python",
   "name": "python2"
  },
  "language_info": {
   "codemirror_mode": {
    "name": "ipython",
    "version": 2
   },
   "file_extension": ".py",
   "mimetype": "text/x-python",
   "name": "python",
   "nbconvert_exporter": "python",
   "pygments_lexer": "ipython2",
   "version": "2.7.6"
  }
 },
 "nbformat": 4,
 "nbformat_minor": 0
}
