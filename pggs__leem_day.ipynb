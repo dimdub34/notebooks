{
 "cells": [
  {
   "cell_type": "markdown",
   "metadata": {
    "slideshow": {
     "slide_type": "slide"
    }
   },
   "source": [
    "<img src=\"solidarity.jpg\" width=300px style=\"float: right;\" />\n",
    "# Behavioral spillover effects from democracy\n",
    "\n",
    "DeAngelo, G., Dubois, D., Mc Cannon, B. and Romaniuc, R."
   ]
  },
  {
   "cell_type": "markdown",
   "metadata": {
    "slideshow": {
     "slide_type": "slide"
    }
   },
   "source": [
    "* Recently, european countries had to welcome populations that left their countries because of a complicated homeland situation (Syrians, Afghans). \n",
    "* The International Organization for Migration (IOM) estimates that around 1 million migrants arrived in Europe in 2015\n",
    "* The European Commission has considered allocating quotas of asylum seekers to each EU state, in order to redistribute people who have arrived in Greece, Hungary and Italy.\n",
    "* Public opinion around Europe has become increasingly divided over how to deal with the migrant crisis"
   ]
  },
  {
   "cell_type": "markdown",
   "metadata": {
    "slideshow": {
     "slide_type": "subslide"
    }
   },
   "source": [
    "* Welcoming refugees implies to share public goods produced/provided by local citizens without counterpart  \n",
    "<br />\n",
    "* A confidential document that was leaked to the German newspaper Bild reveals that the Hamburg transit authority (Hamburger Verkehrsverbund, HVV) has ordered ticket inspectors to \"look the other way\" whenever they encounter migrants who are using public transportation without a ticket.\n",
    "(_Source: http://www.bild.de/regional/hamburg/fluechtling/hvv-drueckt-bei-fluechtlingen-ein-auge-zu-42050234.bild.html_)"
   ]
  },
  {
   "cell_type": "markdown",
   "metadata": {
    "slideshow": {
     "slide_type": "subslide"
    }
   },
   "source": [
    "* with the quotas the EU imposes solidarity to hosting countries, which is not necessarily well accepted  \n",
    "<br />\n",
    "* migration is among the key considerations that led to the UK referendum's call, and has been one of the recurring topics of tension with Brussels (http://www.migrationpolicy.org/article/brexit-role-migration-upcoming-eu-referendum)"
   ]
  },
  {
   "cell_type": "markdown",
   "metadata": {
    "slideshow": {
     "slide_type": "subslide"
    }
   },
   "source": [
    "__Question 1__  \n",
    "If EU imposes to the hosting country to share its public goods without any counterpart, will this effectively impact the subsequent contributions of local citizens? – will they change their contributions to the production of the public goods?\n",
    "\n",
    "_If sharing the benefits from public goods with zero-income individuals has a negative impact on subsequent contributions, then openly permitting zero-income individuals to benefit from public transportation/hospitals/etc. without paying implies that at some point local citizens may stop cooperating and this is likely to lead to social conflicts._"
   ]
  },
  {
   "cell_type": "markdown",
   "metadata": {
    "slideshow": {
     "slide_type": "subslide"
    }
   },
   "source": [
    "__Question 2__  \n",
    "Could this kind of conflict be resolved by giving local citizens the possibility to vote?  \n",
    "\n",
    "1. __they vote in favour__ of welcoming the migrants -> local citizens may increase their contribution to the production of the public goods  \n",
    "\n",
    "2. __they vote against__ -> (a) it increases the cooperation?, (b) it decreases the cooperation?"
   ]
  },
  {
   "cell_type": "markdown",
   "metadata": {
    "slideshow": {
     "slide_type": "subslide"
    }
   },
   "source": [
    "__Some citizens voted in favour of welcoming refugees in their city__\n",
    "* Chaponost (Rhône): [http://www.leprogres.fr/rhone ...](http://www.leprogres.fr/rhone/2015/09/18/la-commune-vote-l-accueil-des-migrants-a-une-tres-courte-majorite)\n",
    "* Marpend (Nord): [http://www.lavoixdunord.fr/...](http://www.lavoixdunord.fr/region/marpent-le-conseil-municipal-vote-pour-l-accueil-ia23b44385n3142608)\n",
    "* Le Vigan (Gard): [http://www.objectifgard.com/...](http://www.objectifgard.com/2015/08/21/le-vigan-le-conseil-municipal-vote-a-lunanimite-laccueil-de-refugies-syriens/)\n",
    "\n",
    "__While some voted against__\n",
    "* Le Plessis-Robinson (Hauts-de-Seine): [http://jfpapot.parti-socialiste...](http://jfpapot.parti-socialiste.fr/2015/10/01/accueil-des-refugies-un-vote-honteux/)\n",
    "* Gignac (Lot): [http://www.ladepeche.fr/...](http://www.ladepeche.fr/article/2016/01/15/2256080-le-village-dit-non-a-l-accueil-de-refugies.html)\n",
    "* Etival (Vosges): [http://www.actu88.fr/...](http://www.actu88.fr/regugies-etival-a-dit-non-coussey-ouvre-ses-portes/)"
   ]
  },
  {
   "cell_type": "markdown",
   "metadata": {
    "slideshow": {
     "slide_type": "slide"
    }
   },
   "source": [
    "## Existing literature"
   ]
  },
  {
   "cell_type": "markdown",
   "metadata": {
    "slideshow": {
     "slide_type": "-"
    }
   },
   "source": [
    "__Income inequality in PGG: inequality undermines cooperation and diminishes social ties__\n",
    "* Buckley & Croson (2006, J. Pub. Econ.) designed a PG experiment with group members who have different endowments. \n",
    "* Maurice et al. (2013, Int. Rev. Econ.) designed a 2-parts PG: 1st part standard and 2nd part with endowment\n",
    "inequality. \n",
    "* Nishi et al. (2015, Nature) designed a modified PG in which they manipulate the visibility of endowment inequality."
   ]
  },
  {
   "cell_type": "markdown",
   "metadata": {
    "slideshow": {
     "slide_type": "subslide"
    }
   },
   "source": [
    "__Share of public good with persons unable to contribute: no effect on group contribution__  \n",
    "Engel & Rochenbach (2009, WP MPI) study PG provisions when group i's contributions may benefit group j -- knowing that j has the same endowment as i but cannot technically contribute to the production of the PG.  \n",
    "\n",
    "__Our contribution is twofold__  \n",
    "A. We study a different set of problems: PG provision when contributions benefit outsiders who are unfortunate\n",
    "to have zero-income.  \n",
    "B. We integrate the role of free-choice (voting vs centralized decision).   "
   ]
  },
  {
   "cell_type": "markdown",
   "metadata": {
    "slideshow": {
     "slide_type": "slide"
    }
   },
   "source": [
    "## Experimental design"
   ]
  },
  {
   "cell_type": "markdown",
   "metadata": {
    "slideshow": {
     "slide_type": "subslide"
    }
   },
   "source": [
    "The session is divided into two parts  \n",
    "<br />\n",
    "<strong>Part 1: a standard public goods game</strong>\n",
    "* groups of 5 players\n",
    "* 10 periods\n",
    "* endowment of 20 tokens ($w_{it}=20, \\forall i, t$)\n",
    "* a private account and a public account\n",
    "* the payoff function : $\\pi(g_i) = w - g_i + \\frac{\\alpha}{n} \\sum\\limits_{j=1}^{n} g_j, \\forall i, j \\in \\{1, \\ldots, n\\}$  \n",
    "with $\\alpha = 2.5$, $\\frac{\\alpha}{n}$ is the Marginal Per Capita Return (MPCR).\n"
   ]
  },
  {
   "cell_type": "markdown",
   "metadata": {
    "slideshow": {
     "slide_type": "subslide"
    }
   },
   "source": [
    "<strong>Part 2: 10 periods</strong>\n",
    "<br />\n",
    "* _$T_0$_: same than part 1 (Baseline)  \n",
    "<br />\n",
    "* For $T_1$, $T_2$ and $T_3$ the groups are divided in two categories: _the lucky groups_ ($G_L$) and the _unlucky groups_ ($G_U$). The unlucky groups face a sinister.  \n",
    "<br />\n",
    "<strong>The sinister: </strong>each member of a sinistred group has _an endowmnent of zero for the whole game_ and therefore cannot contribute to the private or public account."
   ]
  },
  {
   "cell_type": "markdown",
   "metadata": {
    "slideshow": {
     "slide_type": "subslide"
    }
   },
   "source": [
    "* _$T_1$_: $G_L$ group plays the same game than in part 1 while $G_U$ group doesn't play and earns 0 for this part of the experiment.  \n",
    "<br />\n",
    "* _$T_2$_: $G_L$ group plays the same game than in part 1 except that the public account benefits also to the members of the $G_U$ group.  \n",
    "<br />\n",
    "* _$T_3$_: $G_L$ has two options: either it accepts to share the public good with $G_U$ or it refuses. Each group member votes. The majority vote applies to the whole group. If the group accepts the game played is the same than $T_2$. If the group refuses the game played is the same than $T_1$."
   ]
  },
  {
   "cell_type": "markdown",
   "metadata": {
    "slideshow": {
     "slide_type": "subslide"
    }
   },
   "source": [
    "Since in $T_2$ 10 players benefit from the public good while there are only 5 in $T_1$, the MPCR is equal to 0.25 (i.e. 2.5/10) in order to keep $\\alpha$ constant.  \n",
    "<br />\n",
    "The MPCR in the experiment were therefore:\n",
    "* $T_0$: 0.5\n",
    "* $T_1$: 0.5 \n",
    "* $T_2$: 0.25"
   ]
  },
  {
   "cell_type": "markdown",
   "metadata": {
    "slideshow": {
     "slide_type": "slide"
    }
   },
   "source": [
    "## Data"
   ]
  },
  {
   "cell_type": "markdown",
   "metadata": {},
   "source": [
    "$T_0$: 2 sessions with 15 subjects  \n",
    "$T_1$, $T_2$ and $T_3$: 4 sessions with 20 subjects each  \n",
    "<br />\n",
    "<table>\n",
    "<tr><th>Treatment</th><th># of groups</th></tr>\n",
    "<tr><td>Baseline</td><td>6</td></tr>\n",
    "<tr><td>No-solidarity</td><td>16 (8 obs.)</td></tr>\n",
    "<tr><td>Solidarity imposed</td><td>16 (8 obs.)</td></tr>\n",
    "<tr><td colspan=2>__ _Solidarity voted _ __ (16)</td></tr>\n",
    "<tr><td>_In favour_</td><td>0</td></tr>\n",
    "<tr><td>_Against_</td><td>8 obs.</td></tr>\n",
    "</table>"
   ]
  },
  {
   "cell_type": "markdown",
   "metadata": {
    "slideshow": {
     "slide_type": "subslide"
    }
   },
   "source": [
    "<img src=\"boxplot.png\" />\n",
    "<strong>\n",
    "Baseline vs Without solidarity: p-value = 0.281  \n",
    "Baseline vs Solidarity-vote-against: p-value = 0.008  \n",
    "Without solidarity vs Solidarity-vote-against: p-value = 0.041\n",
    "</strong>"
   ]
  },
  {
   "cell_type": "markdown",
   "metadata": {
    "slideshow": {
     "slide_type": "subslide"
    }
   },
   "source": [
    "<img src=\"evolution.png\" />\n",
    "<strong>Baseline vs solidarity-auto: p-value = 0.041  \n",
    "Without-Solidarity vs solidarity-auto: p-value = 0.159  \n",
    "Solidarity-auto vs solidarity-vote-against: p-value=0.078\n",
    "</strong>"
   ]
  },
  {
   "cell_type": "markdown",
   "metadata": {
    "slideshow": {
     "slide_type": "subslide"
    }
   },
   "source": [
    "<img src=\"evolution_after_vote.png\" />\n",
    "30% of subjects voted in favour of the share of the public goods"
   ]
  },
  {
   "cell_type": "markdown",
   "metadata": {
    "slideshow": {
     "slide_type": "slide"
    }
   },
   "source": [
    "## Conclusion  \n",
    "Does imposing solidarity decrease in-group cooperation? <strong>No</strong>  \n",
    "Does voting lead to out-group solidarity? <strong>No</strong>  \n",
    "Does voting improve in-group cooperation? <strong>No</strong>  \n",
    "\n",
    "In our experiment, there are <strong>behavioral spillovers</strong>: in-group cooperation is affected by the expression of one's preferences with respect to out-group solidarity (existing theories of voting: expressingepreferences over an outcome should not affect one’s subsequent behavior)  \n",
    "\n",
    "Plan to run the treatment Solidarity-vote with an MPCR of 0.5 in order to be able to compare with treatment solidarity-auto and to look at what happens when the solidarity doesn't imply a decrease of the MPCR."
   ]
  }
 ],
 "metadata": {
  "celltoolbar": "Slideshow",
  "kernelspec": {
   "display_name": "Python 2",
   "language": "python",
   "name": "python2"
  },
  "language_info": {
   "codemirror_mode": {
    "name": "ipython",
    "version": 2
   },
   "file_extension": ".py",
   "mimetype": "text/x-python",
   "name": "python",
   "nbconvert_exporter": "python",
   "pygments_lexer": "ipython2",
   "version": "2.7.6"
  }
 },
 "nbformat": 4,
 "nbformat_minor": 0
}
