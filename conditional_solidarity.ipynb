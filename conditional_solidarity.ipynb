{
 "cells": [
  {
   "cell_type": "markdown",
   "metadata": {
    "slideshow": {
     "slide_type": "slide"
    }
   },
   "source": [
    "# Conditional solidarity  \n",
    "avec Rustam Romaniuc et Gregory DeAngelo"
   ]
  },
  {
   "cell_type": "markdown",
   "metadata": {
    "slideshow": {
     "slide_type": "subslide"
    }
   },
   "source": [
    "Suite du projet _\"Intergroup Solidarity and Local Public Goods Provision: An Experiment\"_   \n",
    "<br />\n",
    "Question de recherche liée à l'actualité, sur l'accueil des migrants.\n",
    "\n",
    "Opinion publique partagée quant à l'accueil des migrants, à différentes échelles (pays, régions, communes)\n",
    "* Accueillir des migrants implique de partager ses ressources (disponibles/produites) locales\n",
    "* Une partie de la population ne veut pas se voir imposer l'accueil et ce partage\n",
    "  \n",
    "\n"
   ]
  },
  {
   "cell_type": "markdown",
   "metadata": {
    "slideshow": {
     "slide_type": "subslide"
    }
   },
   "source": [
    "__Questions__:\n",
    "* si l'europe (ou le pays) impose à un pays (resp. commune) un accueil est ce que cela va vraiment impacter les contributions des locaux/accueillants?\n",
    "* est-ce que ce sentiment de se voir imposer l'accueil peut-être modéré par la mise en place d'une procédure de vote? \n",
    "* Quel est l'impact du résultat du vote sur la coopération post-vote?"
   ]
  },
  {
   "cell_type": "markdown",
   "metadata": {
    "slideshow": {
     "slide_type": "subslide"
    }
   },
   "source": [
    "__Expérience réalisée__  \n",
    "2 parties: \n",
    "- 1ère partie jeu de bien public standard par groupe de 5 avec un MPCR de 0.5 (cpte collectif \\* 2.5 / 5)\n",
    "- 2ème partie: groupes inchangés\n",
    "    * <span style=\"color: blue;\">__BASELINE__</span>: identique à la première partie\n",
    "    * Pour les 3 autres traitements: <span style=\"color: red;\">__*SINISTRE*__</span>: 2 groupes sur 4 dans la salle subissent un sinistre qui a pour conséquence que les membres de ces groupes ont 0 de dotation dans le jeu, donc ne peuvent plus investir, ni dans leur compte individuel ni dans le compte collectif."
   ]
  },
  {
   "cell_type": "markdown",
   "metadata": {
    "slideshow": {
     "slide_type": "subslide"
    }
   },
   "source": [
    "- <span style=\"color: blue;\">__NO_SOL__</span>: les groupes non sinistrés jouent le jeu de bien public / les sinistrés cliquent sur les écrans mais ne peuvent pas jouer et gagnent 0 pour cette partie\n",
    "- <span style=\"color: blue;\">__SOL_AUTO__</span>: chaque groupe non-sinistré est associé à un groupe sinistré et partage son compte collectif avec lui. le mpcr est alors égal à 0.25 (cpte collectif \\* 2.5 / 10). Les joueurs non-sinistrés gagnent cpte indiv + cpte collectif et les joueurs sinistrés gagnent uniquement cpte collectif partagé"
   ]
  },
  {
   "cell_type": "markdown",
   "metadata": {
    "slideshow": {
     "slide_type": "subslide"
    }
   },
   "source": [
    "* <span style=\"color: blue;\">__SOL_VOTE__</span>: les groupes non-sinistrés votent pour ou contre le partage de leur compte collectif avec un groupe sinistré\n",
    "    - si vote majoritaire \"pour\" -> même traitement que __SOL_AUTO__\n",
    "    - si vote majoritaire \"contre\" -> même traitement que __NO_SOL__"
   ]
  },
  {
   "cell_type": "markdown",
   "metadata": {
    "slideshow": {
     "slide_type": "subslide"
    }
   },
   "source": [
    "Dans SOL_VOTE 100% des groupes ont voté \"contre\" le partage du compte collectif  \n",
    "<div style=\"float: right;\"><img src=\"mw_tests.png\" /></div>\n",
    "<figure>\n",
    "<img src=\"boxplot.png\" />\n",
    "<figcaption>Average contribution of non-sinistred groups</figcaption>\n",
    "</figure>"
   ]
  },
  {
   "cell_type": "markdown",
   "metadata": {
    "slideshow": {
     "slide_type": "subslide"
    }
   },
   "source": [
    "SOL_VOTE contre -> mêmes conditions que NO_SOL\n",
    "<figure>\n",
    "<img src=\"evolution.png\" />\n",
    "<figcaption>Evolution of average contribution of non-sinistred groups</figcaption>\n",
    "</figure>"
   ]
  },
  {
   "cell_type": "markdown",
   "metadata": {
    "slideshow": {
     "slide_type": "subslide"
    }
   },
   "source": [
    "__Conclusion du papier__\n",
    "* Est-ce qu'imposer la solidarité fait diminuer la coopération des locaux? <strong>Non</strong>  \n",
    "* Est-ce qu'une procédure de vote favorise la solidarité? <strong>Non</strong>  \n",
    "* Est-ce qu'après un vote les locaux sont plus coopératifs entre eux? <strong>Non</strong>  "
   ]
  },
  {
   "cell_type": "markdown",
   "metadata": {
    "slideshow": {
     "slide_type": "slide"
    }
   },
   "source": [
    "La solidarité était inconditionnelle, sans contrepartie.  \n",
    "<br />  \n",
    "__Est-ce que s'il existe la possibilité pour les sinistrés de participer à la production du bien public, moyennant un effort (travaux d'intérêt général, investissement dans le milieu associatif etc.), la population hôte accepte plus volontiers l'accueil?__  \n",
    "* Si la population hôte accepte l'accueil, est-ce que les sinistrés feront un maximum d'effort pour contribuer ou feront-ils les passagers clandestins?\n",
    "* Est-ce qu'un vote favorable de la part de la population hôte est favorable à son niveau de coopération?"
   ]
  },
  {
   "cell_type": "markdown",
   "metadata": {
    "slideshow": {
     "slide_type": "subslide"
    }
   },
   "source": [
    "Même expérience (1ère partie BASELINE, groupes de 5) mais __nouveaux traitements envisagés__ pour la partie 2  \n",
    "  \n",
    "Les sinistrés n'ont plus de dotation. Ils peuvent cependant faire des efforts qui leur permettent de gagner une somme qu'ils pourront ensuite répartir entre leur compte individuel et le compte collectif que les sinistrés partagent avec eux.  "
   ]
  },
  {
   "cell_type": "markdown",
   "metadata": {
    "slideshow": {
     "slide_type": "subslide"
    }
   },
   "source": [
    "__Contraintes__: \n",
    "* il faut pouvoir mesurer le coût de l'effort, par un coût d'opportunité par exemple\n",
    "* même en faisant un maximum d'effort les sinistrés ne peuvent pas contribuer autant au compte collectif que les non-sinistrés\n",
    "* il peut y avoir du free-riding parmi les sinistrés \n",
    "    - certains font des efforts et d'autres pas\n",
    "    - certains font des efforts mais uniquement pour eux, pas pour la collectivité\n",
    "* il ne faut pas que le temps d'effort soit trop long (car 10 périodes)"
   ]
  },
  {
   "cell_type": "markdown",
   "metadata": {
    "slideshow": {
     "slide_type": "subslide"
    }
   },
   "source": [
    "__Proposition__:\n",
    "* une unité d'effort rapporte deux jetons de dotation\n",
    "* 5 unités d'effort au maximum, donc 10 jetons de dotation maximum\n",
    "* le sujet peut répartir cette dotation \"gagnée\" comme il veut entre son compte individuel et le compte collectif partagé par le groupe non-sinistré associé \n",
    "* ainsi une unité d'effort coûte 2 ecus (coût d'opportunité mesurable) + $\\epsilon$ (coût non mesurable de réalisation de la tâche)"
   ]
  },
  {
   "cell_type": "markdown",
   "metadata": {
    "slideshow": {
     "slide_type": "subslide"
    }
   },
   "source": [
    "__Effort__: compter des 1 dans des grilles. 5 grilles. Chaque grille rapporte 2 jetons de dotation.  \n",
    "\n",
    "<table>\n",
    "<tr><td>0</td><td>0</td><td>1</td><td>1</td><td>1</td></tr>\n",
    "<tr><td>0</td><td>1</td><td>1</td><td>0</td><td>1</td></tr>\n",
    "<tr><td>1</td><td>1</td><td>1</td><td>1</td><td>0</td></tr>\n",
    "<tr><td>0</td><td>1</td><td>0</td><td>1</td><td>1</td></tr>\n",
    "<tr><td>0</td><td>1</td><td>0</td><td>1</td><td>0</td></tr>\n",
    "</table>"
   ]
  },
  {
   "cell_type": "markdown",
   "metadata": {
    "slideshow": {
     "slide_type": "subslide"
    }
   },
   "source": [
    "Deux nouveaux traitements pour la partie 2:\n",
    "* <span style=\"color: blue;\">__SOL_AUTO_COND__</span>: chaque période les sinistrés doivent faire des efforts pour avoir une dotation\n",
    "* <span style=\"color: blue;\">__SOL_VOTE_COND__</span>: les non-sinistrés votent pour ou contre le partage de leur compte collectif avec un groupe de sinistrés, en sachant que les sinistrés auront la possibilité de contribuer, moyennant la réalisation d'efforts\n",
    "    - vote contre -> même conditions que __NO_SOL__\n",
    "    - vote pour -> même conditions que __SOL_AUTO_COND__"
   ]
  }
 ],
 "metadata": {
  "celltoolbar": "Slideshow",
  "kernelspec": {
   "display_name": "Python 3",
   "language": "python",
   "name": "python3"
  },
  "language_info": {
   "codemirror_mode": {
    "name": "ipython",
    "version": 3
   },
   "file_extension": ".py",
   "mimetype": "text/x-python",
   "name": "python",
   "nbconvert_exporter": "python",
   "pygments_lexer": "ipython3",
   "version": "3.5.2"
  }
 },
 "nbformat": 4,
 "nbformat_minor": 2
}
