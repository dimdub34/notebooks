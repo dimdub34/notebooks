{
 "cells": [
  {
   "cell_type": "code",
   "execution_count": 26,
   "metadata": {
    "collapsed": true
   },
   "outputs": [],
   "source": [
    "import string\n",
    "import itertools\n",
    "import collections\n",
    "import datetime\n",
    "import random"
   ]
  },
  {
   "cell_type": "code",
   "execution_count": 27,
   "metadata": {
    "collapsed": true
   },
   "outputs": [],
   "source": [
    "compteur_groupe = 0"
   ]
  },
  {
   "cell_type": "code",
   "execution_count": 28,
   "metadata": {
    "collapsed": true
   },
   "outputs": [],
   "source": [
    "def former_groupes(population, taille, prefixeid=None):\n",
    "    \"\"\"\n",
    "    Forme des groupes\n",
    "    :param population: une liste d'identifiants\n",
    "    :param taille: la taille des groupes à former\n",
    "    :param prefixeid: le préfixe d'identifiant de groupe. Par défaut la\n",
    "    date du jour avec l'heure, selon format %Y%m%d%H%m\n",
    "    :return: dict\n",
    "    \"\"\"\n",
    "    if type(population) is not list:\n",
    "        raise ValueError(u\"population doit être une liste\")\n",
    "    elif len(population) % taille > 0:\n",
    "        raise ValueError(u\"il faut pouvoir former un nombre entier de groupes\")\n",
    "\n",
    "    nb = len(population) / taille\n",
    "    dispos = population[:]\n",
    "    pre_id = prefixeid or datetime.datetime.now().strftime(\"%Y%m%d%H%M\")\n",
    "    groupes = dict()\n",
    "    global compteur_groupe\n",
    "    \n",
    "    for i in xrange(nb):\n",
    "        g_id = pre_id + str(compteur_groupe)\n",
    "        groupes[g_id] = []\n",
    "        for j in xrange(taille):\n",
    "            selec = random.choice(dispos)\n",
    "            groupes[g_id].append(selec)\n",
    "            dispos.remove(selec)\n",
    "        compteur_groupe += 1\n",
    "\n",
    "    return groupes"
   ]
  },
  {
   "cell_type": "code",
   "execution_count": 29,
   "metadata": {
    "collapsed": true
   },
   "outputs": [],
   "source": [
    "def cyclelist(mylist, numberoftime=1):\n",
    "    \"\"\"\n",
    "    This is a generator, without StopIteration\n",
    "    Create a cycle inside the list\n",
    "    :param mylist: the list\n",
    "    :param numberoftime: allows to run several cycles in only one call of the method\n",
    "    yield the changed list\n",
    "    Example: \n",
    "    mylist = ['A', 'B', 'C']\n",
    "    cyclelist(mylist) -> ['B', 'C', 'A']\n",
    "    cyclelist(mylist, 2) -> ['C', 'A', 'B']\n",
    "    \"\"\"\n",
    "    if type(mylist) is not list:\n",
    "        raise ValueError(\"A list is expected\")\n",
    "    while True:\n",
    "        for _ in range(numberoftime):\n",
    "            first = mylist.pop(0)\n",
    "            mylist.append(first)\n",
    "        yield mylist"
   ]
  },
  {
   "cell_type": "code",
   "execution_count": 33,
   "metadata": {
    "collapsed": true
   },
   "outputs": [],
   "source": [
    "class RoundRobin():\n",
    "    \"\"\"\n",
    "    This class forms groups in which for every member the other\n",
    "    group members are differents form previous rounds\n",
    "    Can form (population_size / groupsize) -1 differents groups. After that\n",
    "    there is a cycle, where groups are the same as in the first round and so on\n",
    "    \"\"\"\n",
    "    def __init__(self, population, taille, prefixe=None):\n",
    "        if type(population) is not list:\n",
    "            raise ValueError(u\"population type must be a list\")\n",
    "        elif len(population) % taille > 0:\n",
    "            raise ValueError(u\"population % taille greater than zero\")\n",
    "\n",
    "        self._population = population\n",
    "        self._taille = taille\n",
    "        self._prefixe = prefixe or datetime.datetime.now().strftime(\"%Y%m%d%H%M\")\n",
    "        group_pool = former_groupes(self._population, len(self._population) / self._taille)\n",
    "        group_pool = list(group_pool.viewvalues())\n",
    "        self._group_pool_cycle = [cyclelist(g, c) for c, g in enumerate(group_pool)]\n",
    "\n",
    "    def next(self):\n",
    "        global compteur_groupe\n",
    "        group_pool = [g.next() for g in self._group_pool_cycle]\n",
    "        group_temp = zip(*group_pool[0:self._taille])\n",
    "        groups = {}\n",
    "        for g in group_temp:\n",
    "            groups[\"{}{}\".format(self._prefixe, compteur_groupe)] = g\n",
    "            compteur_groupe += 1\n",
    "        return groups"
   ]
  },
  {
   "cell_type": "code",
   "execution_count": 34,
   "metadata": {
    "collapsed": false
   },
   "outputs": [],
   "source": [
    "joueurs = [i for i in string.letters[:20]]\n",
    "taille = 4"
   ]
  },
  {
   "cell_type": "code",
   "execution_count": 35,
   "metadata": {
    "collapsed": false
   },
   "outputs": [],
   "source": [
    "roundrobin = RoundRobin(joueurs, taille)"
   ]
  },
  {
   "cell_type": "code",
   "execution_count": 36,
   "metadata": {
    "collapsed": false
   },
   "outputs": [
    {
     "data": {
      "text/plain": [
       "{'20160107094810': ('A', 'P', 'G', 'O'),\n",
       " '20160107094811': ('F', 'E', 'L', 'R'),\n",
       " '20160107094812': ('B', 'I', 'S', 'T'),\n",
       " '2016010709488': ('Q', 'K', 'N', 'M'),\n",
       " '2016010709489': ('C', 'D', 'J', 'H')}"
      ]
     },
     "execution_count": 36,
     "metadata": {},
     "output_type": "execute_result"
    }
   ],
   "source": [
    "group0 = roundrobin.next()\n",
    "group0"
   ]
  },
  {
   "cell_type": "code",
   "execution_count": 37,
   "metadata": {
    "collapsed": false
   },
   "outputs": [
    {
     "data": {
      "text/plain": [
       "{'20160107094813': ('Q', 'D', 'G', 'R'),\n",
       " '20160107094814': ('C', 'P', 'L', 'T'),\n",
       " '20160107094815': ('A', 'E', 'S', 'M'),\n",
       " '20160107094816': ('F', 'I', 'N', 'H'),\n",
       " '20160107094817': ('B', 'K', 'J', 'O')}"
      ]
     },
     "execution_count": 37,
     "metadata": {},
     "output_type": "execute_result"
    }
   ],
   "source": [
    "group1 = roundrobin.next()\n",
    "group1"
   ]
  },
  {
   "cell_type": "code",
   "execution_count": 38,
   "metadata": {
    "collapsed": false
   },
   "outputs": [
    {
     "data": {
      "text/plain": [
       "{'20160107094818': ('Q', 'P', 'S', 'H'),\n",
       " '20160107094819': ('C', 'E', 'N', 'O'),\n",
       " '20160107094820': ('A', 'I', 'J', 'R'),\n",
       " '20160107094821': ('F', 'K', 'G', 'T'),\n",
       " '20160107094822': ('B', 'D', 'L', 'M')}"
      ]
     },
     "execution_count": 38,
     "metadata": {},
     "output_type": "execute_result"
    }
   ],
   "source": [
    "group2 = roundrobin.next()\n",
    "group2"
   ]
  },
  {
   "cell_type": "code",
   "execution_count": 39,
   "metadata": {
    "collapsed": false
   },
   "outputs": [
    {
     "data": {
      "text/plain": [
       "{'20160107094823': ('Q', 'E', 'J', 'T'),\n",
       " '20160107094824': ('C', 'I', 'G', 'M'),\n",
       " '20160107094825': ('A', 'K', 'L', 'H'),\n",
       " '20160107094826': ('F', 'D', 'S', 'O'),\n",
       " '20160107094827': ('B', 'P', 'N', 'R')}"
      ]
     },
     "execution_count": 39,
     "metadata": {},
     "output_type": "execute_result"
    }
   ],
   "source": [
    "group3 = roundrobin.next()\n",
    "group3"
   ]
  },
  {
   "cell_type": "code",
   "execution_count": 40,
   "metadata": {
    "collapsed": false
   },
   "outputs": [
    {
     "data": {
      "text/plain": [
       "{'20160107094828': ('Q', 'I', 'L', 'O'),\n",
       " '20160107094829': ('C', 'K', 'S', 'R'),\n",
       " '20160107094830': ('A', 'D', 'N', 'T'),\n",
       " '20160107094831': ('F', 'P', 'J', 'M'),\n",
       " '20160107094832': ('B', 'E', 'G', 'H')}"
      ]
     },
     "execution_count": 40,
     "metadata": {},
     "output_type": "execute_result"
    }
   ],
   "source": [
    "group4 = roundrobin.next()\n",
    "group4"
   ]
  },
  {
   "cell_type": "code",
   "execution_count": 41,
   "metadata": {
    "collapsed": false
   },
   "outputs": [
    {
     "data": {
      "text/plain": [
       "{'20160107094833': ('Q', 'K', 'N', 'M'),\n",
       " '20160107094834': ('C', 'D', 'J', 'H'),\n",
       " '20160107094835': ('A', 'P', 'G', 'O'),\n",
       " '20160107094836': ('F', 'E', 'L', 'R'),\n",
       " '20160107094837': ('B', 'I', 'S', 'T')}"
      ]
     },
     "execution_count": 41,
     "metadata": {},
     "output_type": "execute_result"
    }
   ],
   "source": [
    "group5 = roundrobin.next()\n",
    "group5"
   ]
  }
 ],
 "metadata": {
  "kernelspec": {
   "display_name": "Python 2",
   "language": "python",
   "name": "python2"
  },
  "language_info": {
   "codemirror_mode": {
    "name": "ipython",
    "version": 2
   },
   "file_extension": ".py",
   "mimetype": "text/x-python",
   "name": "python",
   "nbconvert_exporter": "python",
   "pygments_lexer": "ipython2",
   "version": "2.7.6"
  }
 },
 "nbformat": 4,
 "nbformat_minor": 0
}
