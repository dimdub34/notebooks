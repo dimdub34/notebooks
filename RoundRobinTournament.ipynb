{
 "cells": [
  {
   "cell_type": "code",
   "execution_count": 42,
   "metadata": {
    "collapsed": true
   },
   "outputs": [],
   "source": [
    "import string\n",
    "import datetime\n",
    "import random"
   ]
  },
  {
   "cell_type": "code",
   "execution_count": 43,
   "metadata": {
    "collapsed": true
   },
   "outputs": [],
   "source": [
    "compteur_groupe = 0"
   ]
  },
  {
   "cell_type": "code",
   "execution_count": 44,
   "metadata": {
    "collapsed": true
   },
   "outputs": [],
   "source": [
    "def former_groupes(population, taille, prefixeid=None):\n",
    "    \"\"\"\n",
    "    Forme des groupes\n",
    "    :param population: une liste d'identifiants\n",
    "    :param taille: la taille des groupes à former\n",
    "    :param prefixeid: le préfixe d'identifiant de groupe. Par défaut la\n",
    "    date du jour avec l'heure, selon format %Y%m%d%H%m\n",
    "    :return: dict\n",
    "    \"\"\"\n",
    "    if type(population) is not list:\n",
    "        raise ValueError(u\"population doit être une liste\")\n",
    "    elif len(population) % taille > 0:\n",
    "        raise ValueError(u\"il faut pouvoir former un nombre entier de groupes\")\n",
    "\n",
    "    nb = len(population) / taille\n",
    "    dispos = population[:]\n",
    "    pre_id = prefixeid or datetime.datetime.now().strftime(\"%Y%m%d%H%M\")\n",
    "    groupes = dict()\n",
    "    global compteur_groupe\n",
    "    \n",
    "    for i in xrange(nb):\n",
    "        g_id = pre_id + str(compteur_groupe)\n",
    "        groupes[g_id] = []\n",
    "        for j in xrange(taille):\n",
    "            selec = random.choice(dispos)\n",
    "            groupes[g_id].append(selec)\n",
    "            dispos.remove(selec)\n",
    "        compteur_groupe += 1\n",
    "\n",
    "    return groupes"
   ]
  },
  {
   "cell_type": "code",
   "execution_count": 45,
   "metadata": {
    "collapsed": true
   },
   "outputs": [],
   "source": [
    "def cyclelist(mylist, numberoftime=1):\n",
    "    \"\"\"\n",
    "    This is a generator, without StopIteration\n",
    "    Create a cycle inside the list\n",
    "    :param mylist: the list\n",
    "    :param numberoftime: allows to run several cycles in only one call of the method\n",
    "    yield the changed list\n",
    "    Example: \n",
    "    mylist = ['A', 'B', 'C']\n",
    "    cyclelist(mylist) -> ['B', 'C', 'A']\n",
    "    cyclelist(mylist, 2) -> ['C', 'A', 'B']\n",
    "    \"\"\"\n",
    "    if type(mylist) is not list:\n",
    "        raise ValueError(\"A list is expected\")\n",
    "    while True:\n",
    "        for _ in range(numberoftime):\n",
    "            first = mylist.pop(0)\n",
    "            mylist.append(first)\n",
    "        yield mylist"
   ]
  },
  {
   "cell_type": "code",
   "execution_count": 46,
   "metadata": {
    "collapsed": true
   },
   "outputs": [],
   "source": [
    "class RoundRobin():\n",
    "    \"\"\"\n",
    "    This class forms groups in which for every member the other\n",
    "    group members are differents form previous rounds\n",
    "    Can form (population_size / groupsize) -1 differents groups. After that\n",
    "    there is a cycle, where groups are the same as in the first round and so on\n",
    "    \"\"\"\n",
    "    def __init__(self, population, taille, prefixe=None):\n",
    "        if type(population) is not list:\n",
    "            raise ValueError(u\"population type must be a list\")\n",
    "        elif len(population) % taille > 0:\n",
    "            raise ValueError(u\"population % taille greater than zero\")\n",
    "\n",
    "        self._population = population\n",
    "        self._taille = taille\n",
    "        self._prefixe = prefixe or datetime.datetime.now().strftime(\"%Y%m%d%H%M\")\n",
    "        group_pool = former_groupes(self._population, len(self._population) / self._taille)\n",
    "        group_pool = list(group_pool.viewvalues())\n",
    "        self._group_pool_cycle = [cyclelist(g, c) for c, g in enumerate(group_pool)]\n",
    "\n",
    "    def next(self):\n",
    "        global compteur_groupe\n",
    "        group_pool = [g.next() for g in self._group_pool_cycle]\n",
    "        group_temp = zip(*group_pool[0:self._taille])\n",
    "        groups = {}\n",
    "        for g in group_temp:\n",
    "            groups[\"{}{}\".format(self._prefixe, compteur_groupe)] = g\n",
    "            compteur_groupe += 1\n",
    "        return groups"
   ]
  },
  {
   "cell_type": "code",
   "execution_count": 47,
   "metadata": {
    "collapsed": false
   },
   "outputs": [],
   "source": [
    "joueurs = [i for i in string.letters[:20]]\n",
    "taille = 4"
   ]
  },
  {
   "cell_type": "code",
   "execution_count": 48,
   "metadata": {
    "collapsed": false
   },
   "outputs": [],
   "source": [
    "roundrobin = RoundRobin(joueurs, taille)"
   ]
  },
  {
   "cell_type": "code",
   "execution_count": 49,
   "metadata": {
    "collapsed": false
   },
   "outputs": [
    {
     "data": {
      "text/plain": [
       "{'2016010710014': ('J', 'L', 'N', 'F'),\n",
       " '2016010710015': ('H', 'P', 'M', 'C'),\n",
       " '2016010710016': ('S', 'A', 'D', 'R'),\n",
       " '2016010710017': ('Q', 'I', 'E', 'O'),\n",
       " '2016010710018': ('K', 'G', 'T', 'B')}"
      ]
     },
     "execution_count": 49,
     "metadata": {},
     "output_type": "execute_result"
    }
   ],
   "source": [
    "group0 = roundrobin.next()\n",
    "group0"
   ]
  },
  {
   "cell_type": "code",
   "execution_count": 50,
   "metadata": {
    "collapsed": false
   },
   "outputs": [
    {
     "data": {
      "text/plain": [
       "{'20160107100110': ('H', 'A', 'E', 'B'),\n",
       " '20160107100111': ('S', 'I', 'T', 'F'),\n",
       " '20160107100112': ('Q', 'G', 'N', 'C'),\n",
       " '20160107100113': ('K', 'L', 'M', 'R'),\n",
       " '2016010710019': ('J', 'P', 'D', 'O')}"
      ]
     },
     "execution_count": 50,
     "metadata": {},
     "output_type": "execute_result"
    }
   ],
   "source": [
    "group1 = roundrobin.next()\n",
    "group1"
   ]
  },
  {
   "cell_type": "code",
   "execution_count": 51,
   "metadata": {
    "collapsed": false
   },
   "outputs": [
    {
     "data": {
      "text/plain": [
       "{'20160107100114': ('J', 'A', 'T', 'C'),\n",
       " '20160107100115': ('H', 'I', 'N', 'R'),\n",
       " '20160107100116': ('S', 'G', 'M', 'O'),\n",
       " '20160107100117': ('Q', 'L', 'D', 'B'),\n",
       " '20160107100118': ('K', 'P', 'E', 'F')}"
      ]
     },
     "execution_count": 51,
     "metadata": {},
     "output_type": "execute_result"
    }
   ],
   "source": [
    "group2 = roundrobin.next()\n",
    "group2"
   ]
  },
  {
   "cell_type": "code",
   "execution_count": 52,
   "metadata": {
    "collapsed": false
   },
   "outputs": [
    {
     "data": {
      "text/plain": [
       "{'20160107100119': ('J', 'I', 'M', 'B'),\n",
       " '20160107100120': ('H', 'G', 'D', 'F'),\n",
       " '20160107100121': ('S', 'L', 'E', 'C'),\n",
       " '20160107100122': ('Q', 'P', 'T', 'R'),\n",
       " '20160107100123': ('K', 'A', 'N', 'O')}"
      ]
     },
     "execution_count": 52,
     "metadata": {},
     "output_type": "execute_result"
    }
   ],
   "source": [
    "group3 = roundrobin.next()\n",
    "group3"
   ]
  },
  {
   "cell_type": "code",
   "execution_count": 53,
   "metadata": {
    "collapsed": false
   },
   "outputs": [
    {
     "data": {
      "text/plain": [
       "{'20160107100124': ('J', 'G', 'E', 'R'),\n",
       " '20160107100125': ('H', 'L', 'T', 'O'),\n",
       " '20160107100126': ('S', 'P', 'N', 'B'),\n",
       " '20160107100127': ('Q', 'A', 'M', 'F'),\n",
       " '20160107100128': ('K', 'I', 'D', 'C')}"
      ]
     },
     "execution_count": 53,
     "metadata": {},
     "output_type": "execute_result"
    }
   ],
   "source": [
    "group4 = roundrobin.next()\n",
    "group4"
   ]
  },
  {
   "cell_type": "code",
   "execution_count": 54,
   "metadata": {
    "collapsed": false
   },
   "outputs": [
    {
     "data": {
      "text/plain": [
       "{'20160107100129': ('J', 'L', 'N', 'F'),\n",
       " '20160107100130': ('H', 'P', 'M', 'C'),\n",
       " '20160107100131': ('S', 'A', 'D', 'R'),\n",
       " '20160107100132': ('Q', 'I', 'E', 'O'),\n",
       " '20160107100133': ('K', 'G', 'T', 'B')}"
      ]
     },
     "execution_count": 54,
     "metadata": {},
     "output_type": "execute_result"
    }
   ],
   "source": [
    "group5 = roundrobin.next()\n",
    "group5"
   ]
  }
 ],
 "metadata": {
  "kernelspec": {
   "display_name": "Python 2",
   "language": "python",
   "name": "python2"
  },
  "language_info": {
   "codemirror_mode": {
    "name": "ipython",
    "version": 2
   },
   "file_extension": ".py",
   "mimetype": "text/x-python",
   "name": "python",
   "nbconvert_exporter": "python",
   "pygments_lexer": "ipython2",
   "version": "2.7.6"
  }
 },
 "nbformat": 4,
 "nbformat_minor": 0
}
